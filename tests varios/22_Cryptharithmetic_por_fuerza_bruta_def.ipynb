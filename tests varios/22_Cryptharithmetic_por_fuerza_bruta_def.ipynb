{
 "cells": [
  {
   "cell_type": "markdown",
   "metadata": {},
   "source": [
    "<div style=\"font-size: 200%; font-weight: bold; color: maroon;\">Algoritmos: Ejercicio 1</div>\n",
    "\n",
    "Solución a criptaritmético SEDE + UTAD = ROZAS **por fuerza bruta**\n",
    "\n",
    "Gracias a alumno Arturo Valero INAR_2020-21, GRUPO B\n",
    "\n",
    "Adaptado para introducir cálculo del tiempo para encontrar soluciones al problema\n"
   ]
  },
  {
   "cell_type": "markdown",
   "metadata": {},
   "source": [
    "# Formulación del problema\n",
    "\n",
    "En el problema que aparece a continuación:\n",
    "    - Cada letra representa un (y solo uno) número. Esto es, diferentes letras son estrictamente diferentes \n",
    "    números, y una vez hecha la asignación letra-número esta permanece\n",
    "   \n",
    "    - El resultado numérico (después de haber sustituido letras por números) debe estar correctamente \n",
    "    elaborado\n",
    "    "
   ]
  },
  {
   "cell_type": "markdown",
   "metadata": {},
   "source": [
    "        UTAD \n",
    "     +  SEDE\n",
    "     ---------\n",
    "       ROZAS"
   ]
  },
  {
   "cell_type": "markdown",
   "metadata": {},
   "source": [
    "S = 7"
   ]
  },
  {
   "cell_type": "markdown",
   "metadata": {},
   "source": [
    "1. Diseña y especifica (pseudocódigo) un algoritmo que permita solucionar el problema anterior\n",
    "2. Especifica los requisitos para que otro problema del mismo tipo tenga solución"
   ]
  },
  {
   "cell_type": "code",
   "execution_count": 5,
   "metadata": {},
   "outputs": [],
   "source": [
    "import time\n",
    "\n",
    "time0 = time.time()"
   ]
  },
  {
   "cell_type": "code",
   "execution_count": 6,
   "metadata": {},
   "outputs": [
    {
     "name": "stdout",
     "output_type": "stream",
     "text": [
      "2\n"
     ]
    }
   ],
   "source": [
    "print(1+1)"
   ]
  },
  {
   "cell_type": "code",
   "execution_count": 2,
   "metadata": {},
   "outputs": [
    {
     "name": "stdout",
     "output_type": "stream",
     "text": [
      "[(6359, 7898, 14257), (6309, 7898, 14207), (4639, 7898, 12537), (4609, 7898, 12507), (2649, 7898, 10547), (2639, 7898, 10537), (2569, 7898, 10467), (2539, 7898, 10437), (2469, 7898, 10367), (2459, 7898, 10357)]\n"
     ]
    }
   ],
   "source": [
    "def solucion():\n",
    "    # letras = ('u', 't', 'a', 'd', 's', 'e', 'r', 'o', 'z')\n",
    "    soluciones = list()\n",
    "    s=7\n",
    "    for u in range(9, -1, -1):\n",
    "        for t in range(9, -1, -1):\n",
    "            for a in range(9, -1, -1):\n",
    "                for d in range(9, -1, -1):\n",
    "                    for e in range(9, -1, -1):\n",
    "                        for r in range(9, -1, -1):\n",
    "                            for o in range(9, -1, -1):\n",
    "                                for z in range(9, -1, -1):\n",
    "                                    if len(set([u, t, a, d, s, e, r, o, z])) == 9:\n",
    "                                        utad = 1000 * u + 100 * t + 10 * a + d\n",
    "                                        sede = 1000 * s + 100 * e + 10 * d + e\n",
    "                                        rozas = 10000 * r + 1000 * o + 100 * z + 10 * a + s\n",
    "\n",
    "                                        if utad + sede == rozas:\n",
    "                                            soluciones.append((utad, sede, rozas))\n",
    "    return soluciones\n",
    "\n",
    "print(solucion())"
   ]
  },
  {
   "cell_type": "code",
   "execution_count": 3,
   "metadata": {},
   "outputs": [
    {
     "name": "stdout",
     "output_type": "stream",
     "text": [
      "57.88896417617798\n"
     ]
    }
   ],
   "source": [
    "time1 = time.time()\n",
    "time_dif = time1 - time0\n",
    "print(time_dif)"
   ]
  },
  {
   "cell_type": "markdown",
   "metadata": {},
   "source": [
    "2. Para otros problemas solo habria que adaptar el tamaño y las diferentes letras al codigo expuesto."
   ]
  }
 ],
 "metadata": {
  "kernelspec": {
   "display_name": "Python 3",
   "language": "python",
   "name": "python3"
  },
  "language_info": {
   "codemirror_mode": {
    "name": "ipython",
    "version": 3
   },
   "file_extension": ".py",
   "mimetype": "text/x-python",
   "name": "python",
   "nbconvert_exporter": "python",
   "pygments_lexer": "ipython3",
   "version": "3.8.8"
  }
 },
 "nbformat": 4,
 "nbformat_minor": 2
}
